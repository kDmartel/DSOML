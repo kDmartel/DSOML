{
 "cells": [
  {
   "cell_type": "code",
   "execution_count": 1,
   "metadata": {
    "collapsed": false,
    "deletable": true,
    "editable": true
   },
   "outputs": [],
   "source": [
    "%matplotlib inline\n",
    "import numpy as np\n",
    "import matplotlib.pyplot as plt\n",
    "import time # pour comparer les algorithmes en fonction de leur durée d'éxecution\n",
    "import multiprocessing\n",
    "import concurrent.futures #librairie pour le multiprocessing\n",
    "from scipy import optimize"
   ]
  },
  {
   "cell_type": "markdown",
   "metadata": {},
   "source": [
    "# Table des matières"
   ]
  },
  {
   "cell_type": "markdown",
   "metadata": {},
   "source": [
    "*[Section 1 : Construction des données](#section0)\n",
    "\n",
    "*[Section 2 : Implémentation de CoCoA avec SDCA](#section1)\n",
    "\n",
    "*[Section 3 : Implémentation de ADMM distribuée](#section2)\n",
    "\n",
    "*[Section 4 : Implémentation de ADMM non distribuée](#section3)\n",
    "\n",
    "*[Section 5 : Etude de la convergence pour une taille de X variante](#section4)\n",
    "\n",
    "*[Section 6 : Conclusion](#section5)"
   ]
  },
  {
   "cell_type": "markdown",
   "metadata": {},
   "source": [
    "<a id='section0'></a>"
   ]
  },
  {
   "cell_type": "markdown",
   "metadata": {
    "deletable": true,
    "editable": true
   },
   "source": [
    "# Construction des données"
   ]
  },
  {
   "cell_type": "markdown",
   "metadata": {
    "deletable": true,
    "editable": true
   },
   "source": [
    "## Nous construisons les données de test"
   ]
  },
  {
   "cell_type": "code",
   "execution_count": 2,
   "metadata": {
    "collapsed": false,
    "deletable": true,
    "editable": true
   },
   "outputs": [],
   "source": [
    "np.random.seed(0)\n",
    "\n",
    "def binarize(x):\n",
    "    return np.sign(x)\n",
    "\n",
    "n_samples, n_features = 4000, 40\n",
    "X = np.random.randn(n_samples, n_features)\n",
    "w = np.random.randn(n_features)\n",
    "b = binarize(X.dot(w) + 0.1 * np.random.randn(n_samples))"
   ]
  },
  {
   "cell_type": "markdown",
   "metadata": {},
   "source": [
    "## Nous définissons les constantes"
   ]
  },
  {
   "cell_type": "code",
   "execution_count": 3,
   "metadata": {
    "collapsed": false,
    "deletable": true,
    "editable": true
   },
   "outputs": [],
   "source": [
    "lam = 1./n_features\n",
    "T = 200\n",
    "n_proc=4\n",
    "tau=1."
   ]
  },
  {
   "cell_type": "markdown",
   "metadata": {},
   "source": [
    "<a id='section1'></a>"
   ]
  },
  {
   "cell_type": "markdown",
   "metadata": {},
   "source": [
    "# Implémentation de CoCoA avec SDCA"
   ]
  },
  {
   "cell_type": "markdown",
   "metadata": {
    "deletable": true,
    "editable": true
   },
   "source": [
    "## SDCA"
   ]
  },
  {
   "cell_type": "markdown",
   "metadata": {},
   "source": [
    "Ici nous programmons la fonction de coût qui permet d'étudier la convergence de l'algorithme. \n",
    "Elle correspond à la fonction objective de la regression logistique comme défini dans le TD ADMM :\n",
    "$$\n",
    "    \\frac{1}{n} \\sum_{i=1}^n -\\log(\\frac{1}{1 + e^{-b_i w_i^T x}})+\\frac{\\tau}{2}\\|w-\\rho+u\\|_2+ \\lambda\\|w\\|_1\n",
    "$$"
   ]
  },
  {
   "cell_type": "code",
   "execution_count": 4,
   "metadata": {
    "collapsed": false,
    "deletable": true,
    "editable": true
   },
   "outputs": [],
   "source": [
    "def obj_log_loss(w,lam):\n",
    "    \n",
    "    rho = np.zeros(n_features)\n",
    "    u = np.zeros(n_features)\n",
    "    rho = np.fmax(w + u - lam /tau, 0)\\\n",
    "            - np.fmax(-lam/tau - w - u, 0)\n",
    "    u = u + w - rho\n",
    "\n",
    "    p = b * X.dot(w)\n",
    "    t = 1.0 + np.exp(-p)\n",
    "    return -np.sum(np.log(1.0 / t)) / n_samples + lam * np.linalg.norm(w, ord=1) \\\n",
    "    + (tau / 2.) * np.linalg.norm(w - rho + u) ** 2\n",
    "        \n",
    "        "
   ]
  },
  {
   "cell_type": "markdown",
   "metadata": {},
   "source": [
    "\n",
    "Nous programmons ci-dessous l'algorithme SDCA qui sera distribué par la suite avec la méthode CoCoA\n",
    "\n",
    "![](SDCA.png)\n",
    "\n",
    "Afin de maximiser le gradient de $\\alpha_i$ nous utilisons la formule fermée de l'article <a href=\"https://arxiv.org/pdf/1209.1873.pdf\">*Stochastic Dual Coordinate Ascent Methods for Regularized Loss Minimization*</a> de **Shai Shalev-Shwartz** et **Tong Zhang** décrite ci-dessous :\n",
    "\n",
    "![](Formule_ferme.png)\n",
    "    "
   ]
  },
  {
   "cell_type": "code",
   "execution_count": 5,
   "metadata": {
    "collapsed": false,
    "deletable": true,
    "editable": true
   },
   "outputs": [],
   "source": [
    "def SDCA(X,b,w,alpha,T,lam,n_samples):\n",
    "    \n",
    "    # initialisation\n",
    "    gradient_alpha = np.zeros(n_samples)\n",
    "    \n",
    "    \n",
    "    for t in range(0,T):\n",
    "        \n",
    "        # .. pick random sample ..\n",
    "        idx = np.random.randint(0, n_samples)\n",
    "        \n",
    "        delta_alpha_i = ((1+np.exp(X[idx].T.dot(w)*b[idx]))**(-1)*b[idx]-alpha[idx])\\\n",
    "        /max(1,0.25+(np.linalg.norm(X[idx]))**2/(lam*n_samples))\n",
    "        \n",
    "        alpha[idx] = alpha[idx] + delta_alpha_i\n",
    "        \n",
    "        gradient_alpha[idx]=gradient_alpha[idx] + delta_alpha_i\n",
    "        \n",
    "        w = w+(1/(lam*n_samples))*delta_alpha_i*X[idx]\n",
    "    \n",
    "    gradient_w=(1/(lam*n_samples))*X.T.dot(gradient_alpha)\n",
    "    \n",
    "    return gradient_alpha,gradient_w"
   ]
  },
  {
   "cell_type": "markdown",
   "metadata": {},
   "source": [
    "## CoCoA"
   ]
  },
  {
   "cell_type": "markdown",
   "metadata": {
    "collapsed": true
   },
   "source": [
    "Afin de distribuer nos calculs nous avons choisi de mettre en place la méthode CoCoA\n",
    "comme définie dans l'article <a href=\"https://arxiv.org/pdf/1409.1458.pdf\">\n",
    "*Communication-Efficient Distributed Dual Coordinate Ascent*</a> de **Virginia Smith** and al.\n",
    "\n",
    "![](CoCoA.png)"
   ]
  },
  {
   "cell_type": "code",
   "execution_count": 6,
   "metadata": {
    "collapsed": false,
    "deletable": true,
    "editable": true
   },
   "outputs": [],
   "source": [
    "def COCOA(T,lam,X,b,n_samples):\n",
    "    \n",
    "     # on déclenche le timer\n",
    "    t0 = time.time()\n",
    "    #H=n_proc #comme dans le code de l'article COCOA (driver scala)\n",
    "    H=100\n",
    "    #on initialise l'output de cocoa\n",
    "    futures = []\n",
    "    beta_k=1\n",
    "    alpha=np.zeros((int(n_samples/n_proc),n_proc))\n",
    "    grad_alpha = np.zeros((int(n_samples/n_proc),n_proc))\n",
    "    grad_w = np.zeros((n_features,n_proc))\n",
    "    \n",
    "    w = np.zeros(n_features)\n",
    "    \n",
    "    \n",
    "    # on split les données\n",
    "    X_split = np.array_split(X, n_proc)\n",
    "    b_split = np.array_split(b, n_proc)\n",
    "    \n",
    "    # historique des fonctions de perte\n",
    "    cost_history = np.empty(shape=[T])\n",
    "    time_history = np.empty(shape=[T,2])\n",
    "    \n",
    "    for t in range(0,T):\n",
    "        \n",
    "        cost_history[t] = obj_log_loss(w, lam)\n",
    "        time_history[t] = (time.time()-t0, cost_history[t])\n",
    "        \n",
    "        with concurrent.futures.ProcessPoolExecutor() as executor: \n",
    "            for k in range(n_proc):\n",
    "                futures.append(executor.submit(SDCA,X_split[k],b_split[k],w,alpha[:,k],H,lam,int(n_samples/n_proc)))\n",
    "            \n",
    "        concurrent.futures.wait(futures) # on attend la synchronisation     \n",
    "        \n",
    "        for k in range(n_proc):\n",
    "            d=int(t*n_proc+k)\n",
    "            grad_w[:,k]=futures[d].result()[1]#dernier\n",
    "            grad_alpha[:,k]=futures[d].result()[0]#dernier\n",
    "            alpha[:,k]=alpha[:,k]+(beta_k/n_proc)*(grad_alpha[:,k])\n",
    "            \n",
    "        w=w+(beta_k/n_proc)*(np.sum(grad_w,axis=1))\n",
    "        \n",
    "        \n",
    "\n",
    "    return time_history\n",
    "\n"
   ]
  },
  {
   "cell_type": "code",
   "execution_count": 9,
   "metadata": {
    "collapsed": false
   },
   "outputs": [],
   "source": [
    "cost_history_SDCA = COCOA(T=T,lam=lam,X=X,b=b,n_samples=n_samples)"
   ]
  },
  {
   "cell_type": "markdown",
   "metadata": {},
   "source": [
    "## Etude de la convergence"
   ]
  },
  {
   "cell_type": "code",
   "execution_count": 27,
   "metadata": {
    "collapsed": false,
    "deletable": true,
    "editable": true,
    "scrolled": true
   },
   "outputs": [
    {
     "data": {
      "image/png": "[encoded data removed]",
      "text/plain": [
       "<matplotlib.figure.Figure at 0x10f715c88>"
      ]
     },
     "metadata": {},
     "output_type": "display_data"
    }
   ],
   "source": [
    "plt.plot(cost_history_SDCA[:,0],cost_history_SDCA[:,1], lw=4)\n",
    "plt.grid()\n",
    "plt.ylabel('Loss')\n",
    "plt.xlabel('Seconds')\n",
    "plt.show()"
   ]
  },
  {
   "cell_type": "markdown",
   "metadata": {
    "collapsed": true
   },
   "source": [
    "Notre algorithme converge bien, nous étudierons sa performance \n",
    "comparativement à une méthode de distribution naïve"
   ]
  },
  {
   "cell_type": "markdown",
   "metadata": {},
   "source": [
    "<a id='section2'></a>"
   ]
  },
  {
   "cell_type": "markdown",
   "metadata": {},
   "source": [
    "# Implémentation de ADMM distribuée "
   ]
  },
  {
   "cell_type": "code",
   "execution_count": 7,
   "metadata": {
    "collapsed": false
   },
   "outputs": [],
   "source": [
    "def logistic_loss(theta,rho,u,tau):\n",
    "        p = b * X.dot(theta)\n",
    "        t = 1.0 + np.exp(-p)\n",
    "        return -np.sum(np.log(1.0 / t)) / n_samples\\\n",
    "        + (tau / 2.) * np.linalg.norm(theta - rho + u) ** 2\n",
    "\n",
    "def ADMM_logloss_distribue(A,b,theta,rho,u,tau,n_k,lam=1.):\n",
    "    \n",
    "    # meme fonction que plus haut mais sans argument pour faire la minimisation\n",
    "    def logistic_loss_optim(theta):\n",
    "        p = b * A.dot(theta)\n",
    "        t = 1.0 + np.exp(-p)\n",
    "        return -np.sum(np.log(1.0 / t)) / n_k\\\n",
    "        + (tau / 2.) * np.linalg.norm(theta - rho + u) ** 2\n",
    "\n",
    "    def logistic_grad(theta):\n",
    "        t = b * A.dot(theta)\n",
    "        z = 1. / (1 + np.exp(-t))\n",
    "        z0 = (z - 1) * b\n",
    "        grad_w = A.T.dot(z0)\n",
    "        return grad_w / n_k\\\n",
    "           + tau * (theta - rho + u)\n",
    "    \n",
    "    theta = optimize.minimize(\n",
    "        logistic_loss_optim, theta, jac=logistic_grad).x\n",
    "  \n",
    "    return theta\n",
    "\n",
    "def distribution_calcul_ADMM_logloss(A, b, lam,max_iter):\n",
    "    \n",
    "    # .. initialize variables ..\n",
    "    rho = np.zeros(n_features)\n",
    "    u = np.zeros(n_features)\n",
    "    theta = np.zeros(n_features)\n",
    "    theta_intermediaire= np.zeros((n_features,n_proc))\n",
    "    \n",
    "     # .. to keep track of progress ..\n",
    "    t0=time.time()\n",
    "\n",
    "    obj_fun_history = np.empty(shape=[T,2])\n",
    "    \n",
    "    # on split les données\n",
    "    A_split = np.array_split(A, n_proc)\n",
    "    b_split = np.array_split(b, n_proc)\n",
    "    futures=[]\n",
    "    \n",
    "    # distribution des calculs\n",
    "    for t in range(max_iter):\n",
    "        \n",
    "        obj_fun_history[t]=((time.time()-t0),(logistic_loss(theta,rho,u,tau)\\\n",
    "                               + lam * np.sum(np.abs(theta))))\n",
    "        \n",
    "        with concurrent.futures.ProcessPoolExecutor() as executor: \n",
    "            for k in range(n_proc):\n",
    "                futures.append(executor.submit(ADMM_logloss_distribue,A_split[k],b_split[k],theta\\\n",
    "                                               ,rho,u,tau,int(n_samples/n_proc)))\n",
    "            \n",
    "        concurrent.futures.wait(futures) # on attend la synchronisation     \n",
    "        \n",
    "        for k in range(n_proc):\n",
    "            d=int(t*n_proc+k)\n",
    "            theta_intermediaire[:,k]=futures[d].result()#dernier\n",
    "        \n",
    "        # ATTENTION A DISCUTER ENSEMBLE DOIT ON FAIRE UN THETA GLOBAL JUSTE POUR LA MISE A JOUR\n",
    "        # ET METTRE LES THETA K DANS LES MACHINES OU METTRE LE MEME THETA DE MEME POUR U\n",
    "        \n",
    "        # on met a jour le theta global comme la moyenne des theta intermediaire\n",
    "        theta=np.mean(theta_intermediaire,axis=1)\n",
    "        \n",
    "        rho = np.fmax(theta + u - lam /tau, 0) - np.fmax(-lam/tau - theta - u, 0)\n",
    "        \n",
    "        u = u + theta - rho\n",
    "        \n",
    "    return obj_fun_history\n",
    "    \n"
   ]
  },
  {
   "cell_type": "code",
   "execution_count": 61,
   "metadata": {
    "collapsed": false
   },
   "outputs": [],
   "source": [
    "func_vals_ADMM_distrib = distribution_calcul_ADMM_logloss(X, b, max_iter=T, lam=lam)"
   ]
  },
  {
   "cell_type": "code",
   "execution_count": 62,
   "metadata": {
    "collapsed": false
   },
   "outputs": [
    {
     "data": {
      "image/png": "[encoded data removed]",
      "text/plain": [
       "<matplotlib.figure.Figure at 0x10fc18940>"
      ]
     },
     "metadata": {},
     "output_type": "display_data"
    }
   ],
   "source": [
    "plt.plot(func_vals_ADMM_distrib[:,0],func_vals_ADMM_distrib[:,1])\n",
    "plt.grid()\n",
    "plt.ylabel('Loss')\n",
    "plt.xlabel('Seconds')\n",
    "plt.show()"
   ]
  },
  {
   "cell_type": "markdown",
   "metadata": {},
   "source": [
    "<a id='section3'></a>"
   ]
  },
  {
   "cell_type": "markdown",
   "metadata": {},
   "source": [
    "# Implémentation de ADMM non distribuée"
   ]
  },
  {
   "cell_type": "code",
   "execution_count": 8,
   "metadata": {
    "collapsed": false
   },
   "outputs": [],
   "source": [
    "def ADMM_logloss(A, b, max_iter,lam):\n",
    "    # .. initialize variables ..\n",
    "    rho = np.zeros(n_features)\n",
    "    u = np.zeros(n_features)\n",
    "    theta = np.zeros(n_features)\n",
    "    \n",
    "    # .. to keep track of progress ..\n",
    "    t0=time.time()\n",
    "\n",
    "    obj_fun_history = np.empty(shape=[T,2])\n",
    "\n",
    "    # .. cache inverse matrix ..\n",
    "    for t in range(max_iter):\n",
    "        \n",
    "        def logistic_loss(theta):\n",
    "            p = b * A.dot(theta)\n",
    "            t = 1.0 + np.exp(-p)\n",
    "            return -np.sum(np.log(1.0 / t)) / n_samples\\\n",
    "            + (tau / 2.) * np.linalg.norm(theta - rho + u) ** 2\n",
    "\n",
    "        def logistic_grad(theta):\n",
    "            t = b * A.dot(theta)\n",
    "            z = 1. / (1 + np.exp(-t))\n",
    "            z0 = (z - 1) * b\n",
    "            grad_w = A.T.dot(z0) \n",
    "            return grad_w / n_samples\\\n",
    "               + tau * (theta - rho + u)\n",
    "        \n",
    "        obj_fun_history[t]=((time.time()-t0),(logistic_loss(theta)\\\n",
    "                               + lam * np.sum(np.abs(theta))))\n",
    "\n",
    "        theta = optimize.minimize(\n",
    "            logistic_loss, theta, jac=logistic_grad).x\n",
    "        rho = np.fmax(theta + u - lam /tau, 0)\\\n",
    "                - np.fmax(-lam/tau - theta - u, 0)\n",
    "        u = u + theta - rho\n",
    "        \n",
    "    return obj_fun_history\n",
    "    \n"
   ]
  },
  {
   "cell_type": "code",
   "execution_count": 9,
   "metadata": {
    "collapsed": false
   },
   "outputs": [],
   "source": [
    "func_vals_ADMM = ADMM_logloss(X, b,max_iter=T, lam=lam)"
   ]
  },
  {
   "cell_type": "code",
   "execution_count": 10,
   "metadata": {
    "collapsed": false
   },
   "outputs": [
    {
     "data": {
      "image/png": "[encoded data removed]",
      "text/plain": [
       "<matplotlib.figure.Figure at 0x10bf5c7b8>"
      ]
     },
     "metadata": {},
     "output_type": "display_data"
    }
   ],
   "source": [
    "plt.plot(func_vals_ADMM[:,0],func_vals_ADMM[:,1])\n",
    "plt.grid()\n",
    "plt.ylabel('Loss')\n",
    "plt.xlabel('Seconds')\n",
    "plt.show()"
   ]
  },
  {
   "cell_type": "markdown",
   "metadata": {},
   "source": [
    "<a id='section4'></a>"
   ]
  },
  {
   "cell_type": "markdown",
   "metadata": {},
   "source": [
    "# Etude de la convergence pour une taille de X variante"
   ]
  },
  {
   "cell_type": "code",
   "execution_count": null,
   "metadata": {
    "collapsed": false
   },
   "outputs": [
    {
     "data": {
      "image/png": "[encoded data removed]",
      "text/plain": [
       "<matplotlib.figure.Figure at 0x10f491e80>"
      ]
     },
     "metadata": {},
     "output_type": "display_data"
    },
    {
     "data": {
      "image/png": "[encoded data removed]",
      "text/plain": [
       "<matplotlib.figure.Figure at 0x10f40eac8>"
      ]
     },
     "metadata": {},
     "output_type": "display_data"
    },
    {
     "data": {
      "image/png": "[encoded data removed]",
      "text/plain": [
       "<matplotlib.figure.Figure at 0x10abc24a8>"
      ]
     },
     "metadata": {},
     "output_type": "display_data"
    }
   ],
   "source": [
    "for i in range(3,7):\n",
    "    n_samples=10**i\n",
    "    n_features=int(min((n_samples/n_proc)/10,150)) # on s'assure de ne jamais avoir plus de features que\n",
    "    # d'obs dans chaque machine\n",
    "    \n",
    "    X = np.random.randn(n_samples, n_features)\n",
    "    w = np.random.randn(n_features)\n",
    "    b = binarize(X.dot(w) + 0.1 * np.random.randn(n_samples))\n",
    "    lam = 1./n_features\n",
    "    #CoCoA\n",
    "    func_vals_COCOA = COCOA(T=T,lam=lam,X=X,b=b,n_samples=n_samples)\n",
    "    \n",
    "    #ADMM non distribue\n",
    "    func_vals_ADMM = ADMM_logloss(X, b,max_iter=T, lam=lam)\n",
    "    \n",
    "    #ADMM distribue\n",
    "    func_vals_ADMM_distrib = distribution_calcul_ADMM_logloss(X, b, max_iter=T, lam=lam)\n",
    "    \n",
    "    plt.plot(func_vals_COCOA[:,0],func_vals_COCOA[:,1],label='COCOA')\n",
    "    plt.plot(func_vals_ADMM[:,0],func_vals_ADMM[:,1],label='ADMM')\n",
    "    plt.plot(func_vals_ADMM_distrib[:,0],func_vals_ADMM_distrib[:,1],label='ADMM DIS')\n",
    "    plt.grid()\n",
    "    plt.title('Sizes of X :%d,%d' %(n_samples,n_features))\n",
    "    plt.ylabel('Loss')\n",
    "    plt.xlabel('Seconds')\n",
    "    plt.legend()\n",
    "    plt.show()"
   ]
  },
  {
   "cell_type": "markdown",
   "metadata": {},
   "source": [
    "<a id='section5'></a>"
   ]
  },
  {
   "cell_type": "markdown",
   "metadata": {
    "collapsed": true
   },
   "source": [
    "# Conclusion"
   ]
  }
 ],
 "metadata": {
  "kernelspec": {
   "display_name": "Python [default]",
   "language": "python",
   "name": "python3"
  },
  "language_info": {
   "codemirror_mode": {
    "name": "ipython",
    "version": 3
   },
   "file_extension": ".py",
   "mimetype": "text/x-python",
   "name": "python",
   "nbconvert_exporter": "python",
   "pygments_lexer": "ipython3",
   "version": "3.5.2"
  }
 },
 "nbformat": 4,
 "nbformat_minor": 2
}
